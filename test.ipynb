{
 "cells": [
  {
   "cell_type": "code",
   "execution_count": null,
   "id": "4e3cdb0b",
   "metadata": {},
   "outputs": [],
   "source": [
    "from retrieval_augmented_generation import RAG\n",
    "from langchain_community.document_loaders import PyPDFLoader\n",
    "from scrape_danica import scrape_pages\n",
    "\n",
    "\n",
    "PARENT_CHUNK_SIZE = 20000\n",
    "PARENT_CHUNK_OVERLAP = 2000\n",
    "CHILD_CHUNK_SIZE = 500\n",
    "CHILD_CHUNK_OVERLAP = 200\n",
    "\n",
    "rag_system = RAG(\n",
    "    parent_chunk_size=PARENT_CHUNK_SIZE,\n",
    "    parent_chunk_overlap=PARENT_CHUNK_OVERLAP,\n",
    "    child_chunk_size=CHILD_CHUNK_SIZE,\n",
    "    child_chunk_overlap=CHILD_CHUNK_OVERLAP,\n",
    "    k=200\n",
    ")\n",
    "\n",
    "# Scrape the page content\n",
    "urls = [\n",
    "    \"https://danica.dk/privat/din-pension/dine-investeringsmuligheder/alle-investeringsprodukter/danica-balance\",\n",
    "    \"https://danica.dk/om-danica-pension/kort-om-os\",\n",
    "    \"https://danica.dk/privat/find-hjaelp/pensionsopsparing-og-indbetaling/overfoerelse-af-pensionopsparing#content-list-0-item-0\",\n",
    "    \"https://danica.dk/-/media/pdf/danica-pension/dk/forsikringsbetingelser/daekning-ved-sundhedssikring.pdf\",\n",
    "    \"https://danica.dk/privat/din-pension/dine-investeringsmuligheder/alle-investeringsprodukter\",\n",
    "    \"https://danica.dk/privat/din-pension/dine-investeringsmuligheder/alle-investeringsprodukter/danica-link#content-list-0-item-2\",\n",
    "    \"https://danica.dk/privat/din-pension/dine-investeringsmuligheder/alle-investeringsprodukter/danica-select\",\n",
    "    \"https://danica.dk/privat/din-pension/dine-investeringsmuligheder/alle-investeringsprodukter/danica-flex\",\n",
    "    \"https://danica.dk/privat/din-pension/dine-investeringsmuligheder/alle-investeringsprodukter/danica-traditionel\",\n",
    "    \"https://danica.dk/privat/din-pension/dine-investeringsmuligheder/alle-investeringsprodukter/tidspension\",\n",
    "]\n",
    "documents = scrape_pages(urls)\n",
    "\n",
    "# Add documents to the RAG system\n",
    "rag_system.setup(documents=documents)"
   ]
  },
  {
   "cell_type": "code",
   "execution_count": null,
   "id": "003171ce",
   "metadata": {},
   "outputs": [],
   "source": [
    "# result = rag_system.query(\"Hvordan opsiger jeg min pensionsaftale hos Danica?\", verbose=True)\n",
    "# result = rag_system.query(\"Hvad dækker Danica syndhedspakke?\", verbose=True)\n",
    "# result = rag_system.query(\"Hvordan kontakter jeg kundeservice?\", verbose=True)\n",
    "# result = rag_system.query(\"Hvad er Danica Balance?\", verbose=True)\n",
    "# result = rag_system.query(\"Hvad er Danica Link?\", verbose=True)\n",
    "# result = rag_system.query(\"Hvad er Danica Select?\", verbose=True)\n",
    "# result = rag_system.query(\"Hvad er Danica Flex?\", verbose=True)\n",
    "# result = rag_system.query(\"Hvad er Danica Traditionel?\", verbose=True)\n",
    "# result = rag_system.query(\"Hvad er Danica Tidspension?\", verbose=True)\n",
    "# result = rag_system.query(\"Hvordan investerer Danica mine penge?\", verbose=True)\n",
    "# print(result)"
   ]
  }
 ],
 "metadata": {
  "kernelspec": {
   "display_name": "RAG",
   "language": "python",
   "name": "python3"
  },
  "language_info": {
   "codemirror_mode": {
    "name": "ipython",
    "version": 3
   },
   "file_extension": ".py",
   "mimetype": "text/x-python",
   "name": "python",
   "nbconvert_exporter": "python",
   "pygments_lexer": "ipython3",
   "version": "3.13.5"
  }
 },
 "nbformat": 4,
 "nbformat_minor": 5
}
