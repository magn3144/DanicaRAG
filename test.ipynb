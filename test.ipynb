{
 "cells": [
  {
   "cell_type": "code",
   "execution_count": null,
   "id": "4e3cdb0b",
   "metadata": {},
   "outputs": [],
   "source": [
    "from retrieval_augmented_generation import RAG\n",
    "from langchain_community.document_loaders import PyPDFLoader\n",
    "from scrape_danica import scrape_pages\n",
    "\n",
    "\n",
    "PARENT_CHUNK_SIZE = 20000\n",
    "PARENT_CHUNK_OVERLAP = 2000\n",
    "CHILD_CHUNK_SIZE = 500\n",
    "CHILD_CHUNK_OVERLAP = 200\n",
    "\n",
    "rag_system = RAG(\n",
    "    parent_chunk_size=PARENT_CHUNK_SIZE,\n",
    "    parent_chunk_overlap=PARENT_CHUNK_OVERLAP,\n",
    "    child_chunk_size=CHILD_CHUNK_SIZE,\n",
    "    child_chunk_overlap=CHILD_CHUNK_OVERLAP,\n",
    "    k=50\n",
    ")\n",
    "\n",
    "# Scrape the page content\n",
    "urls = [\"https://danica.dk/privat/din-pension/dine-investeringsmuligheder/alle-investeringsprodukter/danica-balance\",\n",
    "        \"https://danica.dk/om-danica-pension/kort-om-os\",\n",
    "        \"https://danica.dk/privat/find-hjaelp/pensionsopsparing-og-indbetaling/overfoerelse-af-pensionopsparing#content-list-0-item-0\",\n",
    "        \"https://danica.dk/-/media/pdf/danica-pension/dk/forsikringsbetingelser/daekning-ved-sundhedssikring.pdf\"]\n",
    "documents = scrape_pages(urls)\n",
    "\n",
    "# Add documents to the RAG system\n",
    "rag_system.setup(documents=documents)"
   ]
  },
  {
   "cell_type": "code",
   "execution_count": null,
   "id": "003171ce",
   "metadata": {},
   "outputs": [],
   "source": [
    "result = rag_system.query(\"Hvordan opsiger jeg min pensionsaftale hos Danica?\")\n",
    "# result = rag_system.query(\"Hvad dækker Danica syndhedspakke?\")\n",
    "# result = rag_system.query(\"Hvordan kontakter jeg kundeservice?\")\n",
    "# result = rag_system.query(\"Hvordan overfører jeg min pension fra Danica til et andet selskab?\")"
   ]
  }
 ],
 "metadata": {
  "kernelspec": {
   "display_name": "RAG",
   "language": "python",
   "name": "python3"
  },
  "language_info": {
   "codemirror_mode": {
    "name": "ipython",
    "version": 3
   },
   "file_extension": ".py",
   "mimetype": "text/x-python",
   "name": "python",
   "nbconvert_exporter": "python",
   "pygments_lexer": "ipython3",
   "version": "3.13.5"
  }
 },
 "nbformat": 4,
 "nbformat_minor": 5
}
